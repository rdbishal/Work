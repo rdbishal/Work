{
 "cells": [
  {
   "cell_type": "code",
   "execution_count": 4,
   "metadata": {},
   "outputs": [
    {
     "data": {
      "text/plain": [
       "PyObject <module 'pandas' from '/home/rabindev/anaconda3/lib/python3.7/site-packages/pandas/__init__.py'>"
      ]
     },
     "execution_count": 4,
     "metadata": {},
     "output_type": "execute_result"
    }
   ],
   "source": [
    "using CurveFit\n",
    "using FFTW\n",
    "using Distributed\n",
    "using PyPlot\n",
    "pygui(true)\n",
    "using PyCall\n",
    "using Distributions\n",
    "using TimeseriesSurrogates\n",
    "pd=pyimport(\"pandas\")"
   ]
  },
  {
   "cell_type": "code",
   "execution_count": null,
   "metadata": {},
   "outputs": [],
   "source": [
    "a = 0.5\n",
    "typeof(a) # Float64 by default\n",
    "b = convert(Float32,a)\n",
    "typeof(b) # Now it is a Float3"
   ]
  },
  {
   "cell_type": "code",
   "execution_count": 2,
   "metadata": {},
   "outputs": [],
   "source": [
    "# plt=pyimport(\"matplotlib.pyplot\")\n",
    "rc(\"axes\", linewidth=3)\n",
    "rc(\"font\", family=\"serif\")\n",
    "size=36\n",
    "rc(\"xtick\", labelsize=size)\n",
    "rc(\"ytick\", labelsize=size)\n",
    "rc(\"axes\", labelsize=size)"
   ]
  },
  {
   "cell_type": "markdown",
   "metadata": {},
   "source": [
    "# All required function"
   ]
  },
  {
   "cell_type": "code",
   "execution_count": 5,
   "metadata": {},
   "outputs": [
    {
     "data": {
      "text/plain": [
       "MFDFA (generic function with 1 method)"
      ]
     },
     "execution_count": 5,
     "metadata": {},
     "output_type": "execute_result"
    }
   ],
   "source": [
    "function FFT(X::AbstractArray{T},fs::Real) where T<:Real\n",
    "    N=length(X)\n",
    "    time=np.arange(length(X))./fs\n",
    "    Fourier_coefficient=np.abs(fft(X))\n",
    "    First_half_coefficient=Fourier_coefficient[1:trunc(Int,N/2)]\n",
    "    Frequency=np.arange(trunc(Int,N/2))*fs/N\n",
    "    return Frequency,First_half_coefficient\n",
    "    \n",
    "end\n",
    "\n",
    "@everywhere function Invariant_density(X::AbstractArray{T},n::Real) where T<:Real\n",
    "xstep=np.linspace(np.min(X),np.max(X),n)\n",
    "xx=zeros(Float64,n-1)\n",
    "Pxx=zeros(Float64,n-1)\n",
    "  @distributed (+) for i=1:(length(xstep)-1)\n",
    "    count=0\n",
    "     for j=1:length(X)\n",
    "        if xstep[i]<X[j]<xstep[i+1]\n",
    "            count=count+1\n",
    "            end\n",
    "        if count==0\n",
    "            nothing\n",
    "            end\n",
    "    end\n",
    "    xx[i]=xstep[i]\n",
    "    Pxx[i]=count/length(X)\n",
    "end\n",
    "return xx,Pxx\n",
    "end\n",
    "\n",
    "function q_sqrt(X::Array{Float64,1},q::Real)\n",
    "         val=np.sum(X.^(q/2))\n",
    "              \n",
    "    return (val/length(X))^(1/q)\n",
    "end\n",
    "function q_sqrt_zero(X::Array{Float64,1})\n",
    "    \n",
    "        val=np.sum(np.log(X))\n",
    "    return np.exp(val/(2*length(X)))\n",
    "end\n",
    "\n",
    "\n",
    "@everywhere function DFA(X::AbstractArray{T},q::Real,s::Int64,m::Int64) where T<:Real\n",
    "    Y=np.cumsum(X.-np.mean(X))\n",
    "    T1=float(np.arange(length(X)))\n",
    "    N=length(Y)\n",
    "    N_steps=trunc(Int,(N/s))\n",
    "    F_aux=zeros(Float64,2*N_steps)\n",
    "    \n",
    "@distributed (+) for n=1:N_steps\n",
    "    Y_aux1=Y[1+(n-1)*s:n*s]\n",
    "    Y_aux2=Y[1+N-n*s:N-(n-1)*s]\n",
    "\n",
    "    T_aux1=T1[1+(n-1)*s:n*s]\n",
    "    T_aux2=T1[1+N-n*s:N-(n-1)*s]\n",
    "    fit_out1=curve_fit(Poly,T_aux1,Y_aux1,m)\n",
    "    fit_out2=curve_fit(Poly,T_aux2,Y_aux2,m)\n",
    "    yv1=fit_out1.(T_aux1)\n",
    "    yv2=fit_out2.(T_aux2)\n",
    "    F_aux[n]=np.sum((Y_aux1.-yv1).^2)/length(yv1)\n",
    "    F_aux[N_steps+n]=np.sum((Y_aux2.-yv2).^2)/length(yv2)   \n",
    "    end\n",
    "    return q,s,F_aux\n",
    "end\n",
    "\n",
    "function Conversion(Y)\n",
    "    X=zeros(length(Y))\n",
    "    @inbounds begin\n",
    "        @simd for i=1:length(Y)\n",
    "        X[i]=convert(Float64,Y[i])\n",
    "    end\n",
    "    end\n",
    "    return X\n",
    "end\n",
    "\n",
    "function Finding_song_segment(X,Time,ti,tf)  \n",
    "    T4=[]\n",
    "    Y4=[]\n",
    "    for i=1:length(X)\n",
    "        if ti<=Time[i]<=tf\n",
    "            append!(Y4,X[i])\n",
    "            append!(T4,Time[i])\n",
    "        end\n",
    "    end\n",
    "    return T4,Y4\n",
    "end\n",
    "\n",
    "function MFDFA(ym::AbstractArray{T},Q_mul::AbstractArray{T},SL::Array{Int64,1},order::Int64) where T<:Real\n",
    "q=np.zeros(length(Q_mul))\n",
    "Hq=np.zeros(length(Q_mul))\n",
    "FQS=zeros(length(SL),length(Q_mul))\n",
    "for j=1:length(Q_mul)\n",
    "    if  Q_mul[j]==0.0\n",
    "        q_aux=Q_mul[j]\n",
    "        q[j]=q_aux\n",
    "            \n",
    "        SS=zeros(Float64,length(SL))\n",
    "        Fq=zeros(Float64,length(SL)) \n",
    "        \n",
    "        for i=1:length(SL)\n",
    "            SS[i]=SL[i]\n",
    "            dfa_out1=DFA(ym,q_aux,SL[i],order)\n",
    "            Fq[i]=q_sqrt_zero(dfa_out1[3])\n",
    "            FQS[i,j]=q_sqrt_zero(dfa_out1[3])\n",
    "        end \n",
    "    FIT1=curve_fit(Poly,np.log10(SS),np.log10(Fq),1)\n",
    "    coefficient1=FIT1.a\n",
    "    Hq[j]=coefficient1[2]\n",
    "    end\n",
    "    if Q_mul[j]!=0\n",
    "        q_aux=Q_mul[j]\n",
    "        q[j]=q_aux\n",
    "        SS=zeros(length(SL))\n",
    "        Fq=zeros(length(SL)) \n",
    "        for i=1:length(SL)\n",
    "            SS[i]=SL[i]\n",
    "            dfa_out2=DFA(ym,q_aux,SL[i],order)\n",
    "            FQ=q_sqrt(dfa_out2[3],q_aux)\n",
    "            Fq[i]=FQ\n",
    "            FQS[i,j]= FQ\n",
    "            end \n",
    "     FIT2=curve_fit(Poly,np.log10(SS),np.log10(Fq),1)\n",
    "     coefficient2=FIT2.a\n",
    "     Hq[j]=coefficient2[2] \n",
    "        end \n",
    " end\n",
    "    return Q_mul,Hq,FQS\n",
    "end        "
   ]
  },
  {
   "cell_type": "code",
   "execution_count": 6,
   "metadata": {},
   "outputs": [
    {
     "data": {
      "text/plain": [
       "Shannon (generic function with 1 method)"
      ]
     },
     "execution_count": 6,
     "metadata": {},
     "output_type": "execute_result"
    }
   ],
   "source": [
    "function Shannon(X::AbstractArray{T},n::Int64) where T<: Real\n",
    "    prob=Invariant_density(X,n)\n",
    "    SH=0.0\n",
    "    P=prob[2]\n",
    "    for i=1:length(P)\n",
    "        if P[i]==0.0\n",
    "            term=0.0\n",
    "            SH=SH+term\n",
    "            else \n",
    "        term=P[i]*np.log10(P[i])\n",
    "        SH=SH+term \n",
    "        end\n",
    "    end\n",
    "    return -SH\n",
    "end"
   ]
  },
  {
   "cell_type": "code",
   "execution_count": 7,
   "metadata": {},
   "outputs": [
    {
     "data": {
      "text/plain": [
       "ZCR (generic function with 1 method)"
      ]
     },
     "execution_count": 7,
     "metadata": {},
     "output_type": "execute_result"
    }
   ],
   "source": [
    "function ZCR(X::AbstractArray{T}) where T<: Real\n",
    "    Count=0\n",
    "    N=length(X)\n",
    "    for i=2:N-1\n",
    "        if X[i+1]*X[i]<0  \n",
    "            Count=Count+1\n",
    "            elseif X[i-1]*X[i]<0\n",
    "            Count=Count+1\n",
    "        end\n",
    "    return Count/(2*N)    \n",
    "        \n",
    "    end\n",
    "end"
   ]
  },
  {
   "cell_type": "markdown",
   "metadata": {},
   "source": [
    "# White noise and Brown noise"
   ]
  },
  {
   "cell_type": "code",
   "execution_count": 8,
   "metadata": {},
   "outputs": [],
   "source": [
    "using PyCall\n",
    "np=pyimport(\"numpy\")\n",
    "# Wn=np.random.normal(0,1,500000);\n",
    "# Bn=np.cumsum(Wn);"
   ]
  },
  {
   "cell_type": "code",
   "execution_count": null,
   "metadata": {},
   "outputs": [],
   "source": [
    "y = np.random.normal(size=10);"
   ]
  },
  {
   "cell_type": "code",
   "execution_count": null,
   "metadata": {},
   "outputs": [],
   "source": [
    "y, fs = wavread(\"/../../home/rabindev/All_sound_files/sound_files/PDH_283_cut1/PDH_283_cut1.wav\")\n",
    "ti=collect(1:length(y))./fs\n",
    "plot(ti,y)"
   ]
  },
  {
   "cell_type": "code",
   "execution_count": null,
   "metadata": {},
   "outputs": [],
   "source": [
    "y4=Finding_song_segment(y,time,6.34,10.62);\n",
    "v=Conversion(y4[2]);"
   ]
  },
  {
   "cell_type": "markdown",
   "metadata": {},
   "source": [
    "# Reading the wav file"
   ]
  },
  {
   "cell_type": "code",
   "execution_count": 38,
   "metadata": {},
   "outputs": [
    {
     "name": "stdout",
     "output_type": "stream",
     "text": [
      "  0.012594 seconds (13.28 k allocations: 1.956 MiB)\n",
      "  0.027119 seconds (41.27 k allocations: 6.729 MiB)\n",
      "  0.042105 seconds (47.30 k allocations: 7.266 MiB, 14.63% gc time)\n",
      "  0.032814 seconds (52.33 k allocations: 8.637 MiB)\n",
      "  0.044995 seconds (54.49 k allocations: 8.365 MiB, 13.33% gc time)\n",
      "  0.036289 seconds (52.33 k allocations: 8.637 MiB)\n",
      "  0.033086 seconds (51.47 k allocations: 8.480 MiB)\n",
      "  0.052314 seconds (61.67 k allocations: 9.490 MiB, 11.32% gc time)\n",
      "  0.035480 seconds (57.56 k allocations: 9.534 MiB)\n",
      "  0.052293 seconds (65.63 k allocations: 10.113 MiB, 15.93% gc time)\n"
     ]
    }
   ],
   "source": [
    "using CSV\n",
    "Q=[2.0]\n",
    "m=1\n",
    "S=np.arange(10,100,5)\n",
    "\n",
    "\n",
    "HQ_all=[]\n",
    "for i=1:10\n",
    "data = CSV.read(\"/../../home/rabindev/Documents/Vocal_developement_in_Juvenile_Adult/Files_and_figures/canary_cortesindo/seg_4_54_to_6_25/Subsegments/syllable$i.csv\")\n",
    "# y, fs = wavread(\"/../../home/rabindev/All_sound_files/sound_files/canary_revisit_old/cortesonido_denoised.wav\");\n",
    "\n",
    "# # time=collect(1:length(y))./fs\n",
    "# y4=Finding_song_segment(y,time,0,time[end]);\n",
    "# v=Conversion(y4[2]);\n",
    "yn=data.voltage\n",
    "tn=data.time    \n",
    "hil=pyimport(\"scipy.signal\")\n",
    "input_data=yn\n",
    "amp_env=np.abs(hil.hilbert(input_data));\n",
    "ym=amp_env\n",
    "# Q=np.arange(-5,5.26,0.25)\n",
    "# Q=[-5.0,-2.0,2.0,5.0]\n",
    "\n",
    "FQS_result=@time MFDFA(ym,Q,S,m)\n",
    "FQS==FQS_result[3];\n",
    "    \n",
    "append!(HQ_all,FQS_result[2])\n",
    "end"
   ]
  },
  {
   "cell_type": "code",
   "execution_count": 39,
   "metadata": {},
   "outputs": [
    {
     "data": {
      "text/plain": [
       "(Any[1.41166, 1.83168, 1.88559, 1.85965, 1.93064, 1.87956, 1.91522, 1.93854, 1.83149, 1.90857], 1.839261012304752, 1.882573097517521)"
      ]
     },
     "execution_count": 39,
     "metadata": {},
     "output_type": "execute_result"
    }
   ],
   "source": [
    "HQ_all,np.mean(HQ_all),np.median(HQ_all)"
   ]
  },
  {
   "cell_type": "markdown",
   "metadata": {},
   "source": [
    "# Finding amplitude envelope"
   ]
  },
  {
   "cell_type": "code",
   "execution_count": null,
   "metadata": {},
   "outputs": [],
   "source": [
    "using WAV\n",
    "y, fs = wavread(\"/../../home/rabindev/Documents/Vocal_developement_in_Juvenile_Adult/Files_and_figures/P2007_12_07_cut1/P2007_12_07_cut1_denoised.wav\");\n",
    "ti=collect(1:length(y))./fs\n",
    "y4=Finding_song_segment(y,ti,0.825,5.1);\n",
    "v=Conversion(y4[2])\n",
    "\n",
    "hil=pyimport(\"scipy.signal\")\n",
    "input_data=v\n",
    "amp_env=np.abs(hil.hilbert(input_data));\n",
    "plot(input_data)\n",
    "plot(amp_env)"
   ]
  },
  {
   "cell_type": "code",
   "execution_count": null,
   "metadata": {},
   "outputs": [],
   "source": [
    "inv1=@time Invariant_density(amp_env,50)\n",
    "plot(inv1[1],inv1[2],\"ro-\")"
   ]
  },
  {
   "cell_type": "markdown",
   "metadata": {},
   "source": [
    "# Creating surrogate data"
   ]
  },
  {
   "cell_type": "code",
   "execution_count": 48,
   "metadata": {},
   "outputs": [],
   "source": [
    "# z=8\n",
    "using CSV\n",
    "data = CSV.read(\"/../../home/rabindev/Documents/Vocal_developement_in_Juvenile_Adult/juvenile.csv\")\n",
    "# y1=data.voltage\n",
    "# t1=data.time\n",
    "# input_data=y1\n",
    "# amp_env=np.abs(hil.hilbert(input_data));\n",
    "# plot(input_data)\n",
    "# plot(amp_env,color=\"C1\")\n",
    "# # shuf=randomshuffle(amp_env);  ## Uncorrelated surrogate data which has same probability distribution of the original data\n",
    "# # surr=iaaft(amp_env);"
   ]
  },
  {
   "cell_type": "code",
   "execution_count": 49,
   "metadata": {},
   "outputs": [],
   "source": [
    "ff=np.array(data.Fund);"
   ]
  },
  {
   "cell_type": "code",
   "execution_count": 40,
   "metadata": {},
   "outputs": [
    {
     "data": {
      "text/plain": [
       "1681"
      ]
     },
     "execution_count": 40,
     "metadata": {},
     "output_type": "execute_result"
    }
   ],
   "source": [
    "length(ff)"
   ]
  },
  {
   "cell_type": "markdown",
   "metadata": {},
   "source": [
    "# MFDFA computation"
   ]
  },
  {
   "cell_type": "code",
   "execution_count": 50,
   "metadata": {},
   "outputs": [
    {
     "name": "stdout",
     "output_type": "stream",
     "text": [
      "  0.070829 seconds (35.73 k allocations: 5.541 MiB)\n"
     ]
    }
   ],
   "source": [
    "ym=ff\n",
    "# Q=np.arange(-5,5.26,0.25)\n",
    "# Q=[-5.0,-2.0,2.0,5.0]\n",
    "Q=[2.0]\n",
    "m=1\n",
    "S=np.arange(10,100,10)\n",
    "FQS_result=@time MFDFA(ym,Q,S,m)\n",
    "FQS=FQS_result[3];"
   ]
  },
  {
   "cell_type": "markdown",
   "metadata": {},
   "source": [
    "# Plot log F(s) vs log s"
   ]
  },
  {
   "cell_type": "code",
   "execution_count": 51,
   "metadata": {},
   "outputs": [
    {
     "name": "stdout",
     "output_type": "stream",
     "text": [
      "1.2967637626405901\n"
     ]
    }
   ],
   "source": [
    "for k=1:length(Q)\n",
    "    q_max=Q[k]\n",
    "plot(np.log10(S),np.log10(FQS[:,k]),\"o\",color=\"C$(k-1)\",markersize=15,linewidth=4,label=\"q=$q_max\")\n",
    "fit_aux=curve_fit(Poly,np.log10(S),np.log10(FQS[:,k]),1)\n",
    "plot(np.log10(S),fit_aux.(np.log10(S)),color=\"k\",linewidth=5)\n",
    "slope=fit_aux.a\n",
    "println(slope[2])    \n",
    "end\n",
    "legend(fontsize=25)\n",
    "xlabel(L\"log_{10}(s)\")\n",
    "ylabel(L\"log_{10}F_{q}(s)\")\n",
    "# ylim(-2.8,1.5)\n",
    "show()"
   ]
  },
  {
   "cell_type": "code",
   "execution_count": null,
   "metadata": {},
   "outputs": [],
   "source": [
    "Q_mul=FQS_result[1]\n",
    "Hq=FQS_result[2]\n",
    "hq_data=np.column_stack((Q_mul,Hq))\n",
    "hq_data_frame=pd.DataFrame(hq_data,columns=[\"Q\",\"Hq\"])\n",
    "hq_data_frame.to_csv(\"/../../home/rabindev/Bird_song_analysis_result/Juvenile_canary/PDH_283_cut1/seg_6_34_to_10_62/hq_q_s3_s_250_1000_order_2_amplitude_envelope.csv\")\n",
    "plot(Q_mul,Hq,\"bo-\",markersize=20,linewidth=4)\n",
    "ylabel(L\"$H_{q}$\")\n",
    "xlabel(\"q\")\n",
    "# text(-4,1.5,r'$\\Delta H_{q} =%s$'%round((np.max(Hq)-np.min(Hq)),2))\n",
    "# text(2.2,2.1,\" s_max=%s\"%max(SL))\n",
    "# text(2.2,2.3,\" s_min=%s\"%min(SL))\n",
    "# axhline(y=0,color='k',linewidth=3.5)\n",
    "ylim(0,2.5)\n"
   ]
  },
  {
   "cell_type": "markdown",
   "metadata": {},
   "source": [
    "# Hq vs q plot for original data and surrogate data"
   ]
  },
  {
   "cell_type": "code",
   "execution_count": null,
   "metadata": {},
   "outputs": [],
   "source": [
    "LABEL=[\"Original data\",\"Shuffle\",\"Surrogate\"]\n",
    "for i=1:3\n",
    "    hq_data_read=pd.read_csv(\"/../../home/rabindev/Bird_song_analysis_result/Juvenile_canary/PDH_283_cut1/seg_6_34_to_10_62/hq_q_s$(i)_s_250_1000_order_2_amplitude_envelope.csv\")\n",
    "    Q_read=np.array(hq_data_read.Q)\n",
    "    Hq_read=np.array(hq_data_read.Hq)\n",
    "    plot(Q_read,Hq_read,\"o-\",color=\"C$(i-1)\",markersize=20,linewidth=4,label=LABEL[i])\n",
    "    \n",
    "    ylabel(L\"$H_{q}$\")\n",
    "    xlabel(\"q\")\n",
    "    ylim(0,3.5)\n",
    "legend(fontsize=30)    \n",
    "end"
   ]
  },
  {
   "cell_type": "code",
   "execution_count": null,
   "metadata": {},
   "outputs": [],
   "source": [
    "LABEL[1]"
   ]
  },
  {
   "cell_type": "markdown",
   "metadata": {},
   "source": [
    "# Finding power spectrum"
   ]
  },
  {
   "cell_type": "code",
   "execution_count": null,
   "metadata": {},
   "outputs": [],
   "source": [
    "using WAV\n",
    "y, fs = wavread(\"/../../home/rabindev/Documents/Vocal_developement_in_Juvenile_Adult/Files_and_figures/canary_cortesindo/seg_11_12_to_12_27/Subsegment_using_praat/syllable4.wav\");\n",
    "\n",
    "y2=y./np.max(np.abs(y))\n",
    "ti=collect(1:length(y))./fs\n",
    "y4=Finding_song_segment(y,ti,ti[1],ti[end]);\n",
    "v=Conversion(y4[2]);\n",
    "\n",
    "out_ps=FFT(v,fs)\n",
    "subplot(211)\n",
    "plot(ti,v,color=\"C0\")\n",
    "xlabel(\"time (s)\")\n",
    "ylabel(\"Voltage (mV)\")\n",
    "subplot(212)\n",
    "plot(out_ps[1],20*(np.log10(out_ps[2])),\"C2.-\")\n",
    "xlabel(\"f(Hz)\")\n",
    "ylabel(L\"S(f) (mV)$^2$\")\n",
    "xlim(0,10000)\n"
   ]
  },
  {
   "cell_type": "code",
   "execution_count": null,
   "metadata": {},
   "outputs": [],
   "source": []
  },
  {
   "cell_type": "code",
   "execution_count": null,
   "metadata": {},
   "outputs": [],
   "source": []
  },
  {
   "cell_type": "code",
   "execution_count": null,
   "metadata": {},
   "outputs": [],
   "source": []
  }
 ],
 "metadata": {
  "kernelspec": {
   "display_name": "Julia 1.1.1",
   "language": "julia",
   "name": "julia-1.1"
  },
  "language_info": {
   "file_extension": ".jl",
   "mimetype": "application/julia",
   "name": "julia",
   "version": "1.1.1"
  }
 },
 "nbformat": 4,
 "nbformat_minor": 2
}
